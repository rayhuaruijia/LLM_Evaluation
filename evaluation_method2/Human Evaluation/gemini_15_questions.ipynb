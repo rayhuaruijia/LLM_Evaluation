{
 "cells": [
  {
   "cell_type": "markdown",
   "id": "cf4b9026",
   "metadata": {},
   "source": [
    "## Below is Gemini 1.5 Flash's answers to 15 selected challenging math questions for human evaluation"
   ]
  },
  {
   "cell_type": "code",
   "execution_count": 1,
   "id": "d6272ddb",
   "metadata": {},
   "outputs": [],
   "source": [
    "import json\n",
    "import pandas as pd\n",
    "import matplotlib.pyplot as plt\n",
    "from sklearn.metrics import accuracy_score\n",
    "import pathlib\n",
    "import textwrap\n",
    "import google.generativeai as genai\n",
    "from IPython.display import display\n",
    "from IPython.display import Markdown"
   ]
  },
  {
   "cell_type": "code",
   "execution_count": 2,
   "id": "d5a490e4",
   "metadata": {},
   "outputs": [],
   "source": [
    "def load_data(file_path):\n",
    "    with open(file_path, 'r') as file:\n",
    "        data = json.load(file)\n",
    "    return data\n",
    "def clean_response(text):\n",
    "    text = text.replace('\\n', ' ')\n",
    "    text = text.replace('*', '')\n",
    "    return text"
   ]
  },
  {
   "cell_type": "code",
   "execution_count": 3,
   "id": "1db50b07",
   "metadata": {},
   "outputs": [],
   "source": [
    "# Enter API Key\n",
    "genai.configure(api_key=\"\")\n",
    "\n",
    "model = genai.GenerativeModel('gemini-1.5-flash')\n",
    "\n",
    "data_path = \"test15.json\"\n",
    "data = load_data(data_path)"
   ]
  },
  {
   "cell_type": "code",
   "execution_count": 4,
   "id": "e5f4d4d9",
   "metadata": {
    "scrolled": false
   },
   "outputs": [
    {
     "name": "stdout",
     "output_type": "stream",
     "text": [
      "Problem: there are 1000 buildings in a street . a sign - maker is contracted to number the houses from 1 to 1000 . how many zeroes will he need ?\n",
      "Options: a ) 190 , b ) 191 , c ) 192 , d ) 193 , e ) 194\n",
      "Correct option: c\n",
      "Gemini's resonse:Here's how to solve this problem:  1. Figure out the number ranges:   1-9:  No zeros needed  10-99: One zero per number (10, 20, 30... 90)  100-999: Two zeros per number (100, 200, 300... 900)  1000: Three zeros  2. Calculate the zeros in each range:   1-9: 0 zeros  10-99: 9 x 1 = 9 zeros   100-999: 9 x 2 = 18 zeros  1000: 3 zeros  3. Add up the total zeros:  0 + 9 + 18 + 3 = 30 zeros  Therefore, the sign-maker will need 30 zeros.  \n",
      "---------------------------------------------------------------------\n",
      "Problem: a corporation double its annual bonus to 100 of its employees . what percent of the employees ’ new bonus is the increase ?\n",
      "Options: a ) 50 % , b ) 12 % , c ) 8 % , d ) 6 % , e ) 5 %\n",
      "Correct option: a\n",
      "Gemini's resonse:Here's how to solve the problem:  1. Understand the Problem:   The corporation doubled the bonus, meaning the increase is equal to the original bonus amount.  2. Set up the Calculation:   Let 'x' represent the original bonus amount.  The increase is 'x' (since it doubled).  The new bonus is 'x + x' = '2x'  3. Calculate the Percentage:   To find the percentage of the increase, divide the increase ('x') by the new bonus ('2x') and multiply by 100%:     (x / 2x) x 100% = (1/2) x 100% = 50%  Answer: The increase is 50% of the employees' new bonus.  \n",
      "---------------------------------------------------------------------\n",
      "Problem: how many words , with or without meaning , can be formed using all letters of the word good using each letter exactly once ?\n",
      "Options: a ) 18 , b ) 20 , c ) 22 , d ) 23 , e ) 24\n",
      "Correct option: e\n",
      "Gemini's resonse:Here's how to solve the problem:  Understanding the Problem  We need to find all possible arrangements of the letters in the word \"good\".  Since we're using each letter exactly once, this is a permutation problem.  Solution  1. Count the letters: The word \"good\" has 4 letters.  2. Calculate the permutations:  The number of permutations of n distinct objects is n!.  In this case, we have 4 letters, so:     4! = 4 x 3 x 2 x 1 = 24  Answer: There are 24 different words (with or without meaning) that can be formed using all the letters of the word \"good\" exactly once.  \n",
      "---------------------------------------------------------------------\n",
      "Problem: a man bought 20 shares of rs . 50 at 5 discount , the rate of dividend being 13 . the rate of interest obtained is :\n",
      "Options: a ) 27 % , b ) 87 % , c ) 15 % , d ) 66 % , e ) 88 %\n",
      "Correct option: c\n",
      "Gemini's resonse:Here's how to solve the problem step-by-step:  1. Calculate the purchase price per share:   The face value of each share is Rs. 50.  There's a 5% discount, so the discount amount is (5/100) x 50 = Rs. 2.50  The purchase price per share is Rs. 50 - Rs. 2.50 = Rs. 47.50  2. Calculate the total investment:   The man bought 20 shares at Rs. 47.50 each, so his total investment is 20 x 47.50 = Rs. 950  3. Calculate the annual dividend income:   The dividend rate is 13%, which means he earns 13/100 x 50 = Rs. 6.50 per share as dividend.  His total dividend income is 20 x 6.50 = Rs. 130  4. Calculate the rate of interest:   Rate of interest is calculated as (Dividend Income / Total Investment) x 100  So, the rate of interest is (130 / 950) x 100 = 13.68% (approximately)  Therefore, the rate of interest obtained is approximately 13.68%.  \n",
      "---------------------------------------------------------------------\n",
      "Problem: ? % of 360 = 108\n",
      "Options: a ) 30 , b ) 36 , c ) 64 , d ) 72 , e ) none of these\n",
      "Correct option: a\n",
      "Gemini's resonse:Here's how to solve the problem:  Understanding the Problem  The problem asks us to find the percentage that, when multiplied by 360, equals 108.   Setting up the Equation  Let \"x\" represent the unknown percentage. We can write the problem as an equation:  x% of 360 = 108  Converting Percentage to Decimal  Remember that a percentage is a fraction out of 100.  To convert a percentage to a decimal, divide by 100:  x% = x/100  Solving for x  Now our equation becomes:  (x/100) x 360 = 108  Simplify:  3.6x = 108  To isolate x, divide both sides by 3.6:  x = 108 / 3.6  x = 30  Answer  Therefore, 30% of 360 equals 108.  \n",
      "---------------------------------------------------------------------\n",
      "Problem: what quantity of water should be added to reduce 9 liters of 50 % acidic liquid to 30 % acidic liquid ?\n",
      "Options: a ) 6 liters , b ) 8 liters , c ) 10 liters , d ) 12 liters , e ) 15 liters\n",
      "Correct option: a\n",
      "Gemini's resonse:Here's how to solve the problem:  Understanding the Problem   We start with 9 liters of a liquid that is 50% acidic. This means half of the liquid is acid, and the other half is water.  We want to add water to dilute the acid concentration to 30%.  Setting up the Equation  Let 'x' be the quantity of water (in liters) that needs to be added.   Initial Acid: 9 liters x 50% = 4.5 liters of acid   Final Volume: 9 liters + x liters = (9 + x) liters  Final Acid Concentration: 4.5 liters / (9 + x) liters = 30%  Solving for x  1. Convert percentage to decimal: 30% = 0.30 2. Set up the equation: 4.5 / (9 + x) = 0.30 3. Multiply both sides by (9 + x): 4.5 = 0.30 (9 + x) 4. Distribute: 4.5 = 2.7 + 0.30x 5. Subtract 2.7 from both sides: 1.8 = 0.30x 6. Divide both sides by 0.30: x = 6  Answer  You need to add 6 liters of water to reduce the 9 liters of 50% acidic liquid to a 30% acidic liquid.  \n",
      "---------------------------------------------------------------------\n",
      "Problem: what is the smallest positive integer x such that 108 x is the cube of a positive integer ?\n",
      "Options: a ) 2 , b ) 4 , c ) 8 , d ) 10 , e ) 7\n",
      "Correct option: a\n",
      "Gemini's resonse:Here's how to solve the problem:  Understanding the Problem  We need to find the smallest positive integer x that makes 108x a perfect cube.    Prime Factorization  1. Prime Factorize 108:  108 = 2 x 2 x 3 x 3 x 3 = 2² x 3³  2. Perfect Cubes: A perfect cube is a number that can be obtained by cubing an integer.  To make 108x a perfect cube, we need to ensure that all the prime factors in its prime factorization appear in groups of three.  Finding x   We already have three 3's (3³) in the prime factorization of 108.  We have two 2's (2²). To make a group of three, we need one more 2.  Therefore, x must be equal to 2 to make the prime factorization of 108x  be 2³ x 3³. This results in:  108  2 = 216 = 6³  Answer  The smallest positive integer x that makes 108x a perfect cube is x = 2.  \n",
      "---------------------------------------------------------------------\n",
      "Problem: in an electric circuit , two resistors with resistances 3 ohm and 5 ohm are connected in parallel . in this case , if r is the combined resistance of these two resistors , then the reciprocal of r is equal to the sum of the reciprocals of two resistors . what is the value ?\n",
      "Options: ['a ) 15 ohms', 'b ) 15 / 8 ohms', 'c ) 1 / 8 ohms', 'd ) 8 / 15 ohms', 'e ) 8 ohms']\n",
      "Correct option: b\n",
      "Gemini's resonse:Here's how to solve the problem:  Understanding the Concept  When resistors are connected in parallel, the reciprocal of the total resistance (1/R) is equal to the sum of the reciprocals of the individual resistances.   Formula  1/R = 1/R1 + 1/R2  Where:   R = combined resistance  R1 = resistance of the first resistor (3 ohms)  R2 = resistance of the second resistor (5 ohms)  Calculation  1. Find the reciprocals of the individual resistances:     1/R1 = 1/3     1/R2 = 1/5  2. Add the reciprocals:     1/R = 1/3 + 1/5      1/R = 8/15  3. Find the reciprocal of the sum to get the combined resistance:     R = 15/8  Answer  The combined resistance (R) of the two resistors in parallel is 15/8 ohms.  \n",
      "---------------------------------------------------------------------\n",
      "Problem: the diameters of two spheres are in the ratio 1 : 2 what is the ratio of their surface area ?\n",
      "Options: ['a ) 1 : 0', 'b ) 1 : 4', 'c ) 1 : 6', 'd ) 1 : 2', 'e ) 1 : 1']\n",
      "Correct option: b\n",
      "Gemini's resonse:Here's how to solve the problem:  1. Understand the Relationship Between Diameter and Surface Area   The surface area of a sphere is given by the formula: 4πr², where r is the radius.  The diameter is twice the radius (d = 2r).  2. Set Up the Ratios   Let the diameter of the smaller sphere be 'd'.  The diameter of the larger sphere is '2d'.  3. Calculate the Radii   Radius of the smaller sphere: r₁ = d/2  Radius of the larger sphere: r₂ = (2d)/2 = d  4. Calculate the Surface Areas   Surface area of the smaller sphere (SA₁): 4π(d/2)² = πd²  Surface area of the larger sphere (SA₂): 4π(d)² = 4πd²  5. Determine the Ratio of Surface Areas   SA₁ : SA₂ = πd² : 4πd²  Simplify by dividing both sides by πd²: 1 : 4  Therefore, the ratio of the surface areas of the two spheres is 1 : 4.  \n",
      "---------------------------------------------------------------------\n"
     ]
    },
    {
     "name": "stdout",
     "output_type": "stream",
     "text": [
      "Problem: what is the probability of drawing a queen from a deck of 52 cards ?\n",
      "Options: a ) 4 / 13 , b ) 1 / 13 , c ) 4 , d ) 1 , e ) 2 / 13\n",
      "Correct option: b\n",
      "Gemini's resonse:Here's how to solve the probability problem:  Understanding Probability  Probability is the chance of a specific event happening. We calculate it by dividing the number of favorable outcomes (the events we want) by the total number of possible outcomes.  Solving the Problem  1. Favorable Outcomes:  There are four queens in a standard deck of cards (one for each suit: hearts, diamonds, clubs, spades).  2. Total Possible Outcomes: There are 52 cards in a standard deck.  3. Calculating the Probability:      Probability of drawing a queen = (Favorable Outcomes) / (Total Possible Outcomes)     Probability of drawing a queen = 4 / 52     Probability of drawing a queen = 1 / 13  Answer: The probability of drawing a queen from a deck of 52 cards is 1/13.  \n",
      "---------------------------------------------------------------------\n",
      "Problem: from a pack of 52 cards , 1 card is drawn at random . what is the probability that a red king is drawn ?\n",
      "Options: a ) 1 / 2 , b ) 1 / 4 , c ) 1 / 13 , d ) 1 / 26 , e ) 1 / 52\n",
      "Correct option: d\n",
      "Gemini's resonse:Here's how to solve the problem:  Understanding the Problem   A standard deck of cards has 52 cards.  There are two red kings: the King of Hearts and the King of Diamonds.  Calculating the Probability  1. Favorable Outcomes: There are 2 favorable outcomes (drawing a red king).  2. Total Possible Outcomes: There are 52 total possible outcomes (drawing any card from the deck).  3. Probability: The probability of an event is calculated as:     Probability = (Favorable Outcomes) / (Total Possible Outcomes)     Therefore, the probability of drawing a red king is:     Probability = 2 / 52 = 1/26  Answer: The probability of drawing a red king from a standard deck of 52 cards is 1/26.  \n",
      "---------------------------------------------------------------------\n",
      "Problem: the set s consists of 5 numbers : { 1 , 2,3 , 4,5 } . if all possible subsets including the null set are created and one subset is chosen at random , what is the probability that the subset has 4 or 5 as its largest number ?\n",
      "Options: a ) 1 / 2 , b ) 2 / 3 , c ) 3 / 4 , d ) 5 / 8 , e ) 11 / 16\n",
      "Correct option: c\n",
      "Gemini's resonse:Here's how to solve the problem:  1. Find the total number of subsets:   A set with n elements has 2^n subsets.  Our set has 5 elements, so there are 2^5 = 32 subsets.  2. Find the number of subsets with 4 or 5 as the largest number:   Subsets with 4 as the largest:  We can choose any combination of elements from {1, 2, 3}, including the empty set.  There are 2^3 = 8 subsets with 4 as the largest.  Subsets with 5 as the largest:  We can choose any combination of elements from {1, 2, 3, 4}, including the empty set. There are 2^4 = 16 subsets with 5 as the largest.  3. Calculate the probability:   Favorable outcomes: 8 subsets with 4 as the largest + 16 subsets with 5 as the largest = 24 subsets  Total possible outcomes: 32 subsets  Probability: (Favorable outcomes) / (Total possible outcomes) = 24/32 = 3/4  Therefore, the probability that a randomly chosen subset has 4 or 5 as its largest number is 3/4.  \n",
      "---------------------------------------------------------------------\n",
      "Problem: two men are going along a track rail in the opposite direction . one goods train crossed the first person in 20 sec . after 10 min the train crossed the other person who is coming in opposite direction in 18 sec . after the train has passed , when the two persons will meet ?\n",
      "Options: a ) 95 minutes , b ) 90 minutes , c ) 88 minutes , d ) 95 minutes , e ) none of these\n",
      "Correct option: b\n",
      "Gemini's resonse:Here's how to solve this problem:  1. Understand the Setup   Two people are walking towards each other on a track.  A goods train is moving along the same track.  The train passes the first person in 20 seconds.  10 minutes later, the train passes the second person in 18 seconds.  2.  Key Concepts   Relative Speed: When objects move towards each other, their speeds add up to determine how quickly they close the distance between them.  Distance = Speed x Time:  We can use this formula to relate the distance the train travels and its speed.  3.  Let's Assign Variables   Let 'x' be the speed of the train (in meters per second).  Let 'y' be the speed of the first person (in meters per second).  Let 'z' be the speed of the second person (in meters per second).  4.  Formulate Equations   Equation 1:  The train crosses the first person in 20 seconds:      Distance traveled by train = x x 20     This distance is also the length of the train (let's call it 'L').       So, L = 20x   Equation 2:  The train crosses the second person in 18 seconds:     Distance traveled by train = x x 18      This is again the length of the train (L), so L = 18x   Equation 3:  The train traveled for 10 minutes (600 seconds) between crossing the two people.  During this time, the two people are closing the distance between them.     Distance traveled by the train in 600 seconds = x x 600     Total distance covered by the two people in 600 seconds = (y + z) x 600  Since the train traveled the same distance in both cases, we can equate the distances from Equations 1 and 2:   20x = 18x  Solving for x, we find that x = 0. This means the train is stationary. This is a bit of a trick question!    5.  Finding When the Two People Will Meet  Since the train is stationary, we only need to consider the relative speed of the two people.  Let's assume they are moving at a constant speed.   Relative Speed:  y + z   To find when they will meet, we need to know the distance between them initially.  Since that information is not provided, we can't calculate an exact time.   Conclusion  The problem is a bit of a trick! The train is stationary, which makes it impossible to find a definite time when the two people will meet. We would need to know the initial distance between them.  \n",
      "---------------------------------------------------------------------\n",
      "Problem: 2 trains starting at the same time from 2 stations 200 km apart and going in opposite direction cross each other at a distance of 110 km from one of the stations . what is the ratio of their speeds ?\n",
      "Options: a ) 11 : 9 , b ) 11 : 2 , c ) 91 : 9 , d ) 11 : 1 , e ) 11 : 5\n",
      "Correct option: a\n",
      "Gemini's resonse:Here's how to solve the problem:  Understanding the Problem:   Two trains are traveling towards each other.  They meet at a point 110 km from one station, which means they've covered a combined distance of 110 km.  Since the total distance between the stations is 200 km, the remaining distance covered by the second train is 200 km - 110 km = 90 km.  Setting up the Equations:  Let:   'x' be the speed of the first train  'y' be the speed of the second train   Time is the same for both trains:  Since they start at the same time and meet, the time taken by each train to reach the meeting point is the same.  Distance = Speed x Time: We can use this formula to relate distance, speed, and time for each train.  Calculations:   Train 1: Distance = 110 km, Speed = x, Time = t (unknown)  Train 2: Distance = 90 km, Speed = y, Time = t (unknown)  Using the formula Distance = Speed x Time for both trains:   110 = x  t   90 = y  t  Finding the Ratio:  To find the ratio of their speeds (x/y), we need to eliminate the time (t).  We can do this by dividing the first equation by the second equation:  (110 / x  t) / (90 / y  t) = 1  Simplifying:  110y / 90x = 1  Cross-multiplying:  110y = 90x  Now, solve for the ratio x/y:  x/y = 110/90  Simplifying the Ratio:  The ratio of their speeds can be simplified by dividing both numerator and denominator by their greatest common factor (10):  x/y = 11/9  Answer:  The ratio of the speeds of the two trains is 11:9.  \n",
      "---------------------------------------------------------------------\n",
      "Problem: a and b together do a work in 20 days . b and c together in 15 days and c and a in 12 days . then b alone can finish same work in how many days ?\n",
      "Options: a ) 50 , b ) 60 , c ) 45 , d ) 35 , e ) 48\n",
      "Correct option: b\n",
      "Gemini's resonse:Here's how to solve the problem:  1. Define Variables:   Let 'a' be the number of days A takes to complete the work alone.  Let 'b' be the number of days B takes to complete the work alone.  Let 'c' be the number of days C takes to complete the work alone.  2. Set Up Equations:   A and B together:  (1/a) + (1/b) = 1/20   B and C together: (1/b) + (1/c) = 1/15  C and A together: (1/c) + (1/a) = 1/12  3. Solve for a, b, and c:   Add all three equations:      2(1/a) + 2(1/b) + 2(1/c) = 1/20 + 1/15 + 1/12    (1/a) + (1/b) + (1/c) = (1/20 + 1/15 + 1/12) / 2 = 1/8    Subtract the first equation from the combined equation:    (1/c) = 1/8 - 1/20 = 3/80   Subtract the second equation from the combined equation:    (1/a) = 1/8 - 1/15 = 7/120   Subtract the third equation from the combined equation:    (1/b) = 1/8 - 1/12 = 1/24  4. Find the Number of Days B Takes Alone:  Since (1/b) = 1/24,  B takes 24 days to complete the work alone.  \n",
      "---------------------------------------------------------------------\n"
     ]
    }
   ],
   "source": [
    "for item in data:\n",
    "    prompt = f\"Solve and explain this math problem: {item['Problem']} (Don't use '*' in your response, use x if there's a multiply)\"\n",
    "\n",
    "    raw_response = model.generate_content(prompt)\n",
    "    response = clean_response(raw_response.text)\n",
    "\n",
    "    print(f\"Problem: {item['Problem']}\")\n",
    "    print(f\"Options: {item['options']}\")\n",
    "    print(f\"Correct option: {item['correct']}\")\n",
    "    print(f\"Gemini's resonse:{response}\")\n",
    "    print(\"---------------------------------------------------------------------\")"
   ]
  },
  {
   "cell_type": "code",
   "execution_count": null,
   "id": "f32b0e85",
   "metadata": {},
   "outputs": [],
   "source": []
  }
 ],
 "metadata": {
  "kernelspec": {
   "display_name": "Python 3 (ipykernel)",
   "language": "python",
   "name": "python3"
  },
  "language_info": {
   "codemirror_mode": {
    "name": "ipython",
    "version": 3
   },
   "file_extension": ".py",
   "mimetype": "text/x-python",
   "name": "python",
   "nbconvert_exporter": "python",
   "pygments_lexer": "ipython3",
   "version": "3.11.5"
  }
 },
 "nbformat": 4,
 "nbformat_minor": 5
}
